{
 "cells": [
  {
   "cell_type": "code",
   "execution_count": 1,
   "metadata": {},
   "outputs": [],
   "source": [
    "from sklearn.feature_extraction.text import TfidfVectorizer\n",
    "from sklearn.decomposition import TruncatedSVD\n",
    "import pandas as pd\n",
    "import numpy as np\n",
    "import warnings"
   ]
  },
  {
   "cell_type": "code",
   "execution_count": 2,
   "metadata": {},
   "outputs": [],
   "source": [
    "data = [\"The amount of pollution is increasing day by day\",\n",
    "\"The concert was just great\", \"I love to see Gordon Ramsay cook\",\n",
    "\"Google is introducing a new technlogy\", \"AI robots are great example of great technology present today\",\n",
    "\"All of us were singing in the concert\", \"We have launch campaigns to stop pollution and global warming\"]"
   ]
  },
  {
   "cell_type": "code",
   "execution_count": 3,
   "metadata": {},
   "outputs": [],
   "source": [
    "data = [line.lower() for  line in data]"
   ]
  },
  {
   "cell_type": "code",
   "execution_count": 4,
   "metadata": {},
   "outputs": [],
   "source": [
    "tfidf = TfidfVectorizer()\n",
    "X = tfidf.fit_transform(data)"
   ]
  },
  {
   "cell_type": "code",
   "execution_count": 5,
   "metadata": {},
   "outputs": [
    {
     "data": {
      "text/plain": [
       "<7x42 sparse matrix of type '<class 'numpy.float64'>'\n",
       "\twith 51 stored elements in Compressed Sparse Row format>"
      ]
     },
     "execution_count": 5,
     "metadata": {},
     "output_type": "execute_result"
    }
   ],
   "source": [
    "X"
   ]
  },
  {
   "cell_type": "code",
   "execution_count": 6,
   "metadata": {},
   "outputs": [],
   "source": [
    "lsa = TruncatedSVD(n_components=4,n_iter=100)"
   ]
  },
  {
   "cell_type": "code",
   "execution_count": 7,
   "metadata": {},
   "outputs": [
    {
     "data": {
      "text/plain": [
       "TruncatedSVD(algorithm='randomized', n_components=4, n_iter=100,\n",
       "       random_state=None, tol=0.0)"
      ]
     },
     "execution_count": 7,
     "metadata": {},
     "output_type": "execute_result"
    }
   ],
   "source": [
    "lsa.fit(X)"
   ]
  },
  {
   "cell_type": "code",
   "execution_count": 8,
   "metadata": {},
   "outputs": [
    {
     "data": {
      "text/plain": [
       "array([0.11696462, 0.1707732 , 0.10318835, 0.01935276, 0.11696462,\n",
       "       0.10318835, 0.01935276, 0.35741668, 0.00567144, 0.20637669,\n",
       "       0.11696462, 0.01935276, 0.03668901, 0.00567144, 0.40984162,\n",
       "       0.01935276, 0.1707732 , 0.10318835, 0.03668901, 0.11611022,\n",
       "       0.25980475, 0.01935276, 0.00567144, 0.03668901, 0.27737381,\n",
       "       0.10171964, 0.11696462, 0.00567144, 0.11696462, 0.00567144,\n",
       "       0.1707732 , 0.01935276, 0.03668901, 0.11696462, 0.37872315,\n",
       "       0.02077223, 0.11696462, 0.1707732 , 0.01935276, 0.25980475,\n",
       "       0.01935276, 0.1707732 ])"
      ]
     },
     "execution_count": 8,
     "metadata": {},
     "output_type": "execute_result"
    }
   ],
   "source": [
    "lsa.components_[0]"
   ]
  },
  {
   "cell_type": "code",
   "execution_count": 9,
   "metadata": {},
   "outputs": [],
   "source": [
    "words = tfidf.get_feature_names()"
   ]
  },
  {
   "cell_type": "code",
   "execution_count": 12,
   "metadata": {},
   "outputs": [
    {
     "name": "stdout",
     "output_type": "stream",
     "text": [
      "\n",
      "Topic 0 ;\n",
      "('great', 0.40984162355340037)\n",
      "('the', 0.3787231472218789)\n",
      "('concert', 0.3574166811716594)\n",
      "('of', 0.27737380673258993)\n",
      "('just', 0.2598047527022689)\n",
      "('was', 0.2598047527022689)\n",
      "('day', 0.20637669367094486)\n",
      "('all', 0.17077320324892362)\n",
      "('in', 0.17077320324892362)\n",
      "('singing', 0.17077320324892362)\n",
      "\n",
      "Topic 1 ;\n",
      "('to', 0.3218414494137719)\n",
      "('pollution', 0.2641076135719791)\n",
      "('day', 0.24902077191892963)\n",
      "('is', 0.22901149256839257)\n",
      "('cook', 0.19406202788196814)\n",
      "('gordon', 0.19406202788196814)\n",
      "('love', 0.19406202788196814)\n",
      "('ramsay', 0.19406202788196814)\n",
      "('see', 0.19406202788196814)\n",
      "('and', 0.19365863746211825)\n",
      "\n",
      "Topic 2 ;\n",
      "('is', 0.34424073742032374)\n",
      "('google', 0.29368746403512586)\n",
      "('introducing', 0.29368746403512586)\n",
      "('new', 0.29368746403512586)\n",
      "('technlogy', 0.29368746403512586)\n",
      "('day', 0.24203500650628332)\n",
      "('amount', 0.12101750325314169)\n",
      "('by', 0.12101750325314166)\n",
      "('increasing', 0.12101750325314166)\n",
      "('of', 0.0460701545850058)\n",
      "\n",
      "Topic 3 ;\n",
      "('great', 0.360973415692942)\n",
      "('google', 0.21834424295922983)\n",
      "('introducing', 0.21834424295922983)\n",
      "('new', 0.21834424295922983)\n",
      "('technlogy', 0.21834424295922983)\n",
      "('are', 0.20230022314967896)\n",
      "('example', 0.20230022314967896)\n",
      "('present', 0.20230022314967896)\n",
      "('robots', 0.20230022314967896)\n",
      "('technology', 0.20230022314967896)\n"
     ]
    }
   ],
   "source": [
    "for i,y in enumerate(lsa.components_):\n",
    "    componentwords = zip(words, y)\n",
    "    sortedComponentwords = sorted(componentwords, key = lambda x: x[1],\n",
    "                                reverse=True)\n",
    "    sortedComponentwords = sortedComponentwords[:10]\n",
    "    print (\"\\nTopic\", i, \";\")\n",
    "    for x in sortedComponentwords:\n",
    "        print (x)\n"
   ]
  }
 ],
 "metadata": {
  "kernelspec": {
   "display_name": "Python 3",
   "language": "python",
   "name": "python3"
  },
  "language_info": {
   "codemirror_mode": {
    "name": "ipython",
    "version": 3
   },
   "file_extension": ".py",
   "mimetype": "text/x-python",
   "name": "python",
   "nbconvert_exporter": "python",
   "pygments_lexer": "ipython3",
   "version": "3.7.1"
  }
 },
 "nbformat": 4,
 "nbformat_minor": 2
}
