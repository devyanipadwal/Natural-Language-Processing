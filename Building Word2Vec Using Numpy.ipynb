{
 "cells": [
  {
   "cell_type": "markdown",
   "metadata": {
    "colab_type": "text",
    "id": "MN4wxkZYNnFx"
   },
   "source": [
    "# Word2Vec from scratch"
   ]
  },
  {
   "cell_type": "code",
   "execution_count": 1,
   "metadata": {
    "colab": {},
    "colab_type": "code",
    "id": "2tMIdjn-N3LO"
   },
   "outputs": [],
   "source": [
    "import numpy as np\n",
    "from collections import defaultdict"
   ]
  },
  {
   "cell_type": "code",
   "execution_count": 2,
   "metadata": {
    "colab": {},
    "colab_type": "code",
    "id": "zs5mGMS3OBHM"
   },
   "outputs": [],
   "source": [
    "class word2vec():\n",
    "\n",
    "    def __init__(self):\n",
    "        self.n = settings['n']\n",
    "        self.lr = settings['learning_rate']\n",
    "        self.epochs = settings['epochs']\n",
    "        self.window = settings['window_size']\n",
    "\n",
    "    def generate_training_data(self, settings, corpus):\n",
    "        # Find unique word counts using dictonary\n",
    "        word_counts = defaultdict(int)\n",
    "        for row in corpus:\n",
    "            for word in row:\n",
    "                word_counts[word] += 1\n",
    "        #########################################################################################################################################################\n",
    "        # print(word_counts)\t\t\t\t\t\t\t\t\t\t\t\t\t\t\t\t\t\t\t\t\t\t\t\t\t\t\t\t\t\t\t\t\t#\n",
    "        # # defaultdict(<class 'int'>, {'natural': 1, 'language': 1, 'processing': 1, 'and': 2, 'machine': 1, 'learning': 1, 'is': 1, 'fun': 1, 'exciting': 1})\t#\n",
    "        #########################################################################################################################################################\n",
    "\n",
    "        ## How many unique words in vocab? 9\n",
    "        self.v_count = len(word_counts.keys())\n",
    "        #########################\n",
    "        # print(self.v_count)\t#\n",
    "        # 9\t\t\t\t\t\t#\n",
    "        #########################\n",
    "\n",
    "        # Generate Lookup Dictionaries (vocab)\n",
    "        self.words_list = list(word_counts.keys())\n",
    "        #################################################################################################\n",
    "        # print(self.words_list)\t\t\t\t\t\t\t\t\t\t\t\t\t\t\t\t\t\t#\n",
    "        # ['natural', 'language', 'processing', 'and', 'machine', 'learning', 'is', 'fun', 'exciting']\t#\n",
    "        #################################################################################################\n",
    "\n",
    "        # Generate word:index\n",
    "        self.word_index = dict((word, i) for i, word in enumerate(self.words_list))\n",
    "        #############################################################################################################################\n",
    "        # print(self.word_index)\t\t\t\t\t\t\t\t\t\t\t\t\t\t\t\t\t\t\t\t\t\t\t\t\t#\n",
    "        # # {'natural': 0, 'language': 1, 'processing': 2, 'and': 3, 'machine': 4, 'learning': 5, 'is': 6, 'fun': 7, 'exciting': 8}\t#\n",
    "        #############################################################################################################################\n",
    "\n",
    "        # Generate index:word\n",
    "        self.index_word = dict((i, word) for i, word in enumerate(self.words_list))\n",
    "        #############################################################################################################################\n",
    "        # print(self.index_word)\t\t\t\t\t\t\t\t\t\t\t\t\t\t\t\t\t\t\t\t\t\t\t\t\t#\n",
    "        # {0: 'natural', 1: 'language', 2: 'processing', 3: 'and', 4: 'machine', 5: 'learning', 6: 'is', 7: 'fun', 8: 'exciting'}\t#\n",
    "        #############################################################################################################################\n",
    "\n",
    "        training_data = []\n",
    "\n",
    "        # Cycle through each sentence in corpus\n",
    "        for sentence in corpus:\n",
    "            sent_len = len(sentence)\n",
    "\n",
    "            # Cycle through each word in sentence\n",
    "            for i, word in enumerate(sentence):\n",
    "                # Convert target word to one-hot\n",
    "                w_target = self.word2onehot(sentence[i])\n",
    "\n",
    "                # Cycle through context window\n",
    "                w_context = []\n",
    "\n",
    "                # Note: window_size 2 will have range of 5 values\n",
    "                for j in range(i - self.window, i + self.window+1):\n",
    "                    # Criteria for context word \n",
    "                    # 1. Target word cannot be context word (j != i)\n",
    "                    # 2. Index must be greater or equal than 0 (j >= 0) - if not list index out of range\n",
    "                    # 3. Index must be less or equal than length of sentence (j <= sent_len-1) - if not list index out of range \n",
    "                    if j != i and j <= sent_len-1 and j >= 0:\n",
    "                        # Append the one-hot representation of word to w_context\n",
    "                        w_context.append(self.word2onehot(sentence[j]))\n",
    "                        # print(sentence[i], sentence[j]) \n",
    "                        #########################\n",
    "                        # Example:\t\t\t\t#\n",
    "                        # natural language\t\t#\n",
    "                        # natural processing\t#\n",
    "                        # language natural\t\t#\n",
    "                        # language processing\t#\n",
    "                        # language append \t\t#\n",
    "                        #########################\n",
    "\n",
    "                # training_data contains a one-hot representation of the target word and context words\n",
    "                #################################################################################################\n",
    "                # Example:\t\t\t\t\t\t\t\t\t\t\t\t\t\t\t\t\t\t\t\t\t\t#\n",
    "                # [Target] natural, [Context] language, [Context] processing\t\t\t\t\t\t\t\t\t#\n",
    "                # print(training_data)\t\t\t\t\t\t\t\t\t\t\t\t\t\t\t\t\t\t\t#\n",
    "                # [[[1, 0, 0, 0, 0, 0, 0, 0, 0], [[0, 1, 0, 0, 0, 0, 0, 0, 0], [0, 0, 1, 0, 0, 0, 0, 0, 0]]]]\t#\n",
    "                #################################################################################################\n",
    "                training_data.append([w_target, w_context])\n",
    "\n",
    "        return np.array(training_data)\n",
    "\n",
    "    def word2onehot(self, word):\n",
    "        # word_vec - initialise a blank vector\n",
    "        word_vec = [0 for i in range(0, self.v_count)] # Alternative - np.zeros(self.v_count)\n",
    "        #############################\n",
    "        # print(word_vec)\t\t\t#\n",
    "        # [0, 0, 0, 0, 0, 0, 0, 0]\t#\n",
    "        #############################\n",
    "\n",
    "        # Get ID of word from word_index\n",
    "        word_index = self.word_index[word]\n",
    "\n",
    "        # Change value from 0 to 1 according to ID of the word\n",
    "        word_vec[word_index] = 1\n",
    "\n",
    "        return word_vec\n",
    "\n",
    "    def train(self, training_data):\n",
    "        # Initialising weight matrices\n",
    "        # np.random.uniform(HIGH, LOW, OUTPUT_SHAPE)\n",
    "        self.w1 = np.random.uniform(-1, 1, (self.v_count, self.n))\n",
    "        self.w2 = np.random.uniform(-1, 1, (self.n, self.v_count))\n",
    "\n",
    "        # Cycle through each epoch\n",
    "        for i in range(self.epochs):\n",
    "            # Intialise loss to 0\n",
    "            self.loss = 0\n",
    "            # Cycle through each training sample\n",
    "            # w_t = vector for target word, w_c = vectors for context words\n",
    "            for w_t, w_c in training_data:\n",
    "                # Forward pass\n",
    "                # 1. predicted y using softmax (y_pred) 2. matrix of hidden layer (h) 3. output layer before softmax (u)\n",
    "                y_pred, h, u = self.forward_pass(w_t)\n",
    "                #########################################\n",
    "                # print(\"Vector for target word:\", w_t)\t#\n",
    "                # print(\"W1-before backprop\", self.w1)\t#\n",
    "                # print(\"W2-before backprop\", self.w2)\t#\n",
    "                #########################################\n",
    "\n",
    "                # Calculate error\n",
    "                # 1. For a target word, calculate difference between y_pred and each of the context words\n",
    "                # 2. Sum up the differences using np.sum to give us the error for this particular target word\n",
    "                EI = np.sum([np.subtract(y_pred, word) for word in w_c], axis=0)\n",
    "                #########################\n",
    "                # print(\"Error\", EI)\t#\n",
    "                #########################\n",
    "\n",
    "                # Backpropagation\n",
    "                # We use SGD to backpropagate errors - calculate loss on the output layer \n",
    "                self.backprop(EI, h, w_t)\n",
    "                #########################################\n",
    "                #print(\"W1-after backprop\", self.w1)\t#\n",
    "                #print(\"W2-after backprop\", self.w2)\t#\n",
    "                #########################################\n",
    "\n",
    "                # Calculate loss\n",
    "                # There are 2 parts to the loss function\n",
    "                # Part 1: -ve sum of all the output +\n",
    "                # Part 2: length of context words * log of sum for all elements (exponential-ed) in the output layer before softmax (u)\n",
    "                # Note: word.index(1) returns the index in the context word vector with value 1\n",
    "                # Note: u[word.index(1)] returns the value of the output layer before softmax\n",
    "                self.loss += -np.sum([u[word.index(1)] for word in w_c]) + len(w_c) * np.log(np.sum(np.exp(u)))\n",
    "\n",
    "                #############################################################\n",
    "                # Break if you want to see weights after first target word \t#\n",
    "                # break \t\t\t\t\t\t\t\t\t\t\t\t\t#\n",
    "                #############################################################\n",
    "            print('Epoch:', i, \"Loss:\", self.loss)\n",
    "\n",
    "    def forward_pass(self, x):\n",
    "        # x is one-hot vector for target word, shape - 9x1\n",
    "        # Run through first matrix (w1) to get hidden layer - 10x9 dot 9x1 gives us 10x1\n",
    "        h = np.dot(x, self.w1)\n",
    "        # Dot product hidden layer with second matrix (w2) - 9x10 dot 10x1 gives us 9x1\n",
    "        u = np.dot(h, self.w2)\n",
    "        # Run 1x9 through softmax to force each element to range of [0, 1] - 1x8\n",
    "        y_c = self.softmax(u)\n",
    "        return y_c, h, u\n",
    "\n",
    "    def softmax(self, x):\n",
    "        e_x = np.exp(x - np.max(x))\n",
    "        return e_x / e_x.sum(axis=0)\n",
    "\n",
    "    def backprop(self, e, h, x):\n",
    "        # https://docs.scipy.org/doc/numpy-1.15.1/reference/generated/numpy.outer.html\n",
    "        # Column vector EI represents row-wise sum of prediction errors across each context word for the current center word\n",
    "        # Going backwards, we need to take derivative of E with respect of w2\n",
    "        # h - shape 10x1, e - shape 9x1, dl_dw2 - shape 10x9\n",
    "        # x - shape 9x1, w2 - 10x9, e.T - 9x1\n",
    "        dl_dw2 = np.outer(h, e)\n",
    "        dl_dw1 = np.outer(x, np.dot(self.w2, e.T))\n",
    "        ########################################\n",
    "        # print('Delta for w2', dl_dw2)\t\t\t#\n",
    "        # print('Hidden layer', h)\t\t\t\t#\n",
    "        # print('np.dot', np.dot(self.w2, e.T))\t#\n",
    "        # print('Delta for w1', dl_dw1)\t\t\t#\n",
    "        #########################################\n",
    "\n",
    "        # Update weights\n",
    "        self.w1 = self.w1 - (self.lr * dl_dw1)\n",
    "        self.w2 = self.w2 - (self.lr * dl_dw2)\n",
    "\n",
    "    # Get vector from word\n",
    "    def word_vec(self, word):\n",
    "        w_index = self.word_index[word]\n",
    "        v_w = self.w1[w_index]\n",
    "        return v_w\n",
    "\n",
    "    # Input vector, returns nearest word(s)\n",
    "    def vec_sim(self, word, top_n):\n",
    "        v_w1 = self.word_vec(word)\n",
    "        word_sim = {}\n",
    "\n",
    "        for i in range(self.v_count):\n",
    "            # Find the similary score for each word in vocab\n",
    "            v_w2 = self.w1[i]\n",
    "            theta_sum = np.dot(v_w1, v_w2)\n",
    "            theta_den = np.linalg.norm(v_w1) * np.linalg.norm(v_w2)\n",
    "            theta = theta_sum / theta_den\n",
    "\n",
    "            word = self.index_word[i]\n",
    "            word_sim[word] = theta\n",
    "\n",
    "        words_sorted = sorted(word_sim.items(), key=lambda kv: kv[1], reverse=True)\n",
    "\n",
    "        for word, sim in words_sorted[:top_n]:\n",
    "            print(word, sim)\n"
   ]
  },
  {
   "cell_type": "code",
   "execution_count": 3,
   "metadata": {
    "colab": {},
    "colab_type": "code",
    "id": "JkNccBQiOP9W"
   },
   "outputs": [],
   "source": [
    "settings = {\n",
    "    'window_size': 2, # context window +- center word\n",
    "    'n': 10, # dimensions of word embeddings, also refer to size of hidden layer\n",
    "    'epochs': 50, # number of training epochs\n",
    "    'learning_rate': 0.01 # learning rate\n",
    "    }"
   ]
  },
  {
   "cell_type": "code",
   "execution_count": 4,
   "metadata": {
    "colab": {},
    "colab_type": "code",
    "id": "S3UXH8_COTbd"
   },
   "outputs": [],
   "source": [
    "text = \"natural language processing and machine learning is fun and exciting\""
   ]
  },
  {
   "cell_type": "code",
   "execution_count": 5,
   "metadata": {
    "colab": {},
    "colab_type": "code",
    "id": "NHXhliidOWO1"
   },
   "outputs": [],
   "source": [
    "# Note the .lower() as upper and lowercase does not matter in our implementation\n",
    "# [['natural', 'language', 'processing', 'and', 'machine', 'learning', 'is', 'fun', 'and', 'exciting']]\n",
    "corpus = [[word.lower() for word in text.split()]]"
   ]
  },
  {
   "cell_type": "code",
   "execution_count": 6,
   "metadata": {
    "colab": {},
    "colab_type": "code",
    "id": "hvv6eZ2FOdbc"
   },
   "outputs": [],
   "source": [
    "# Initialise object\n",
    "w2v = word2vec()"
   ]
  },
  {
   "cell_type": "code",
   "execution_count": 7,
   "metadata": {
    "colab": {},
    "colab_type": "code",
    "id": "uu5RcpVtOeHj"
   },
   "outputs": [],
   "source": [
    "# Numpy ndarray with one-hot representation for [target_word, context_words]\n",
    "training_data = w2v.generate_training_data(settings, corpus)"
   ]
  },
  {
   "cell_type": "code",
   "execution_count": 8,
   "metadata": {
    "colab": {
     "base_uri": "https://localhost:8080/",
     "height": 897
    },
    "colab_type": "code",
    "id": "bunc_BT8OhHq",
    "outputId": "b8cf042e-8d34-46b4-f25f-4e909c6f0fc5"
   },
   "outputs": [
    {
     "name": "stdout",
     "output_type": "stream",
     "text": [
      "Epoch: 0 Loss: 97.12581475167936\n",
      "Epoch: 1 Loss: 93.80338491166151\n",
      "Epoch: 2 Loss: 90.85193035217964\n",
      "Epoch: 3 Loss: 88.21454043071064\n",
      "Epoch: 4 Loss: 85.84457829130375\n",
      "Epoch: 5 Loss: 83.70377963347292\n",
      "Epoch: 6 Loss: 81.76067092571942\n",
      "Epoch: 7 Loss: 79.98926123891883\n",
      "Epoch: 8 Loss: 78.36797338065793\n",
      "Epoch: 9 Loss: 76.87878078904669\n",
      "Epoch: 10 Loss: 75.50651700794585\n",
      "Epoch: 11 Loss: 74.23832678450799\n",
      "Epoch: 12 Loss: 73.06323145473341\n",
      "Epoch: 13 Loss: 71.97178542658611\n",
      "Epoch: 14 Loss: 70.95580460272758\n",
      "Epoch: 15 Loss: 70.00815119683482\n",
      "Epoch: 16 Loss: 69.12256249466552\n",
      "Epoch: 17 Loss: 68.29351370672366\n",
      "Epoch: 18 Loss: 67.51610720534778\n",
      "Epoch: 19 Loss: 66.78598219258816\n",
      "Epoch: 20 Loss: 66.09924025822077\n",
      "Epoch: 21 Loss: 65.45238340550232\n",
      "Epoch: 22 Loss: 64.84226198796125\n",
      "Epoch: 23 Loss: 64.26603065392578\n",
      "Epoch: 24 Loss: 63.721110875360274\n",
      "Epoch: 25 Loss: 63.20515898037381\n",
      "Epoch: 26 Loss: 62.716038847448715\n",
      "Epoch: 27 Loss: 62.25179858249813\n",
      "Epoch: 28 Loss: 61.81065061070994\n",
      "Epoch: 29 Loss: 61.39095469206611\n",
      "Epoch: 30 Loss: 60.991203425960045\n",
      "Epoch: 31 Loss: 60.610009855845604\n",
      "Epoch: 32 Loss: 60.24609682531182\n",
      "Epoch: 33 Loss: 59.89828777574096\n",
      "Epoch: 34 Loss: 59.56549871421555\n",
      "Epoch: 35 Loss: 59.24673111877363\n",
      "Epoch: 36 Loss: 58.94106558588955\n",
      "Epoch: 37 Loss: 58.64765606125852\n",
      "Epoch: 38 Loss: 58.3657245286037\n",
      "Epoch: 39 Loss: 58.09455606146158\n",
      "Epoch: 40 Loss: 57.833494169130255\n",
      "Epoch: 41 Loss: 57.58193638986921\n",
      "Epoch: 42 Loss: 57.33933010197592\n",
      "Epoch: 43 Loss: 57.10516853672817\n",
      "Epoch: 44 Loss: 56.878986986750505\n",
      "Epoch: 45 Loss: 56.66035920963244\n",
      "Epoch: 46 Loss: 56.44889403015824\n",
      "Epoch: 47 Loss: 56.244232145871734\n",
      "Epoch: 48 Loss: 56.046043140445796\n",
      "Epoch: 49 Loss: 55.854022707946115\n"
     ]
    }
   ],
   "source": [
    "# Training\n",
    "w2v.train(training_data)"
   ]
  },
  {
   "cell_type": "code",
   "execution_count": 9,
   "metadata": {
    "colab": {
     "base_uri": "https://localhost:8080/",
     "height": 52
    },
    "colab_type": "code",
    "id": "JG6U4b2rOjyh",
    "outputId": "bc345fbd-c967-402b-8ffe-a789b91bd65c"
   },
   "outputs": [
    {
     "name": "stdout",
     "output_type": "stream",
     "text": [
      "learning [-1.04196217 -0.7250011  -0.68256585  0.63589552  0.14222288  0.00333276\n",
      " -0.11529547 -1.03858541  0.28476356 -0.44911833]\n"
     ]
    }
   ],
   "source": [
    "# Get vector for word\n",
    "word = \"learning\"\n",
    "vec = w2v.word_vec(word)\n",
    "print(word, vec)"
   ]
  },
  {
   "cell_type": "code",
   "execution_count": 10,
   "metadata": {
    "colab": {
     "base_uri": "https://localhost:8080/",
     "height": 70
    },
    "colab_type": "code",
    "id": "ZgNTRio4OmSp",
    "outputId": "5ba40755-c3fe-47c6-e5f5-73ea59408df3"
   },
   "outputs": [
    {
     "name": "stdout",
     "output_type": "stream",
     "text": [
      "learning 0.9999999999999999\n",
      "machine 0.3999858007904566\n",
      "exciting 0.34566495085959886\n"
     ]
    }
   ],
   "source": [
    "# Find similar words\n",
    "w2v.vec_sim(\"learning\", 3)"
   ]
  }
 ],
 "metadata": {
  "accelerator": "GPU",
  "colab": {
   "collapsed_sections": [],
   "name": "Word2Vec_using_Numpy.ipynb",
   "provenance": []
  },
  "kernelspec": {
   "display_name": "Python 3",
   "language": "python",
   "name": "python3"
  },
  "language_info": {
   "codemirror_mode": {
    "name": "ipython",
    "version": 3
   },
   "file_extension": ".py",
   "mimetype": "text/x-python",
   "name": "python",
   "nbconvert_exporter": "python",
   "pygments_lexer": "ipython3",
   "version": "3.7.1"
  }
 },
 "nbformat": 4,
 "nbformat_minor": 1
}
